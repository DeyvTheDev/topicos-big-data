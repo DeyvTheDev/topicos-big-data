{
  "nbformat": 4,
  "nbformat_minor": 0,
  "metadata": {
    "colab": {
      "provenance": []
    },
    "kernelspec": {
      "name": "python3",
      "display_name": "Python 3"
    },
    "language_info": {
      "name": "python"
    }
  },
  "cells": [
    {
      "cell_type": "code",
      "execution_count": null,
      "metadata": {
        "colab": {
          "base_uri": "https://localhost:8080/"
        },
        "id": "UTOrSdQBIuzO",
        "outputId": "8ef08b36-06e6-40dd-93e2-febe766664ea"
      },
      "outputs": [
        {
          "output_type": "stream",
          "name": "stderr",
          "text": [
            "<ipython-input-3-eb93864f277b>:15: FutureWarning: DataFrame.applymap has been deprecated. Use DataFrame.map instead.\n",
            "  ipca = ipca.applymap(lambda x: float(x.strip('%').replace(',', '.')) / 100 if isinstance(x, str) else x)\n",
            "<ipython-input-3-eb93864f277b>:16: FutureWarning: DataFrame.applymap has been deprecated. Use DataFrame.map instead.\n",
            "  igpm = igpm.applymap(lambda x: float(x.strip('%').replace(',', '.')) / 100 if isinstance(x, str) else x)\n",
            "/usr/local/lib/python3.10/dist-packages/statsmodels/tsa/base/tsa_model.py:473: ValueWarning: An unsupported index was provided and will be ignored when e.g. forecasting.\n",
            "  self._init_dates(dates, freq)\n",
            "/usr/local/lib/python3.10/dist-packages/statsmodels/tsa/base/tsa_model.py:473: ValueWarning: An unsupported index was provided and will be ignored when e.g. forecasting.\n",
            "  self._init_dates(dates, freq)\n",
            "/usr/local/lib/python3.10/dist-packages/statsmodels/tsa/base/tsa_model.py:473: ValueWarning: An unsupported index was provided and will be ignored when e.g. forecasting.\n",
            "  self._init_dates(dates, freq)\n",
            "/usr/local/lib/python3.10/dist-packages/statsmodels/tsa/base/tsa_model.py:473: ValueWarning: An unsupported index was provided and will be ignored when e.g. forecasting.\n",
            "  self._init_dates(dates, freq)\n"
          ]
        },
        {
          "output_type": "stream",
          "name": "stdout",
          "text": [
            "Saldo final ao comprar o imóvel: R$ 1230731.20\n",
            "Saldo final ao alugar e juntar dinheiro: R$ 1083468.84\n",
            "Valor futuro do imóvel: R$ 20529368.40\n",
            "Comprar o imóvel é a melhor opção.\n"
          ]
        },
        {
          "output_type": "stream",
          "name": "stderr",
          "text": [
            "/usr/local/lib/python3.10/dist-packages/statsmodels/base/model.py:607: ConvergenceWarning: Maximum Likelihood optimization failed to converge. Check mle_retvals\n",
            "  warnings.warn(\"Maximum Likelihood optimization failed to \"\n",
            "/usr/local/lib/python3.10/dist-packages/statsmodels/tsa/base/tsa_model.py:836: ValueWarning: No supported index is available. Prediction results will be given with an integer index beginning at `start`.\n",
            "  return get_prediction_index(\n",
            "/usr/local/lib/python3.10/dist-packages/statsmodels/tsa/base/tsa_model.py:836: FutureWarning: No supported index is available. In the next version, calling this method in a model without a supported index will result in an exception.\n",
            "  return get_prediction_index(\n",
            "/usr/local/lib/python3.10/dist-packages/statsmodels/tsa/base/tsa_model.py:836: ValueWarning: No supported index is available. Prediction results will be given with an integer index beginning at `start`.\n",
            "  return get_prediction_index(\n"
          ]
        }
      ],
      "source": [
        "import pandas as pd\n",
        "import numpy as np\n",
        "from statsmodels.tsa.statespace.sarimax import SARIMAX\n",
        "import matplotlib.pyplot as plt\n",
        "\n",
        "# Carregar dados históricos do IPCA e IGP-M\n",
        "ipca = pd.read_csv('ipca.csv', index_col=0)\n",
        "igpm = pd.read_csv('igpm.csv', index_col=0)\n",
        "\n",
        "# Substituir '--' por NaN antes de converter para valores numéricos\n",
        "ipca = ipca.replace('--', np.nan)\n",
        "igpm = igpm.replace('--', np.nan)\n",
        "\n",
        "# Converter os valores percentuais para decimais\n",
        "ipca = ipca.applymap(lambda x: float(x.strip('%').replace(',', '.')) / 100 if isinstance(x, str) else x)\n",
        "igpm = igpm.applymap(lambda x: float(x.strip('%').replace(',', '.')) / 100 if isinstance(x, str) else x)\n",
        "\n",
        "# Transformar os dados em séries temporais mensais\n",
        "ipca_series = ipca.stack().reset_index(level=1, drop=True)\n",
        "igpm_series = igpm.stack().reset_index(level=1, drop=True)\n",
        "\n",
        "# Ajustar o modelo SARIMAX para o IGP-M\n",
        "model_igpm = SARIMAX(igpm_series, order=(1, 1, 1), seasonal_order=(1, 1, 1, 12))\n",
        "results_igpm = model_igpm.fit()\n",
        "\n",
        "# Ajustar o modelo SARIMAX para o IPCA\n",
        "model_ipca = SARIMAX(ipca_series, order=(1, 1, 1), seasonal_order=(1, 1, 1, 12))\n",
        "results_ipca = model_ipca.fit()\n",
        "\n",
        "# Fazer previsões para os próximos 180 meses\n",
        "forecast_igpm = results_igpm.get_forecast(steps=180)\n",
        "forecast_ipca = results_ipca.get_forecast(steps=180)\n",
        "\n",
        "# Valores iniciais\n",
        "valor_inicial = 20000  # R$\n",
        "salario_mensal = 2000  # R$\n",
        "aluguel_mensal = 800  # R$\n",
        "valor_imovel = 200000  # R$\n",
        "prestacao_financiamento = 600  # R$\n",
        "meses_financiamento = 180  # 15 anos\n",
        "\n",
        "# Função para calcular o valor futuro com base nas previsões\n",
        "def calcular_valor_futuro(valor_inicial, previsoes):\n",
        "    valor_futuro = valor_inicial\n",
        "    for i in range(len(previsoes)):\n",
        "        # Access the predicted value using the iloc accessor\n",
        "        valor_futuro *= (1 + previsoes.iloc[i])\n",
        "    return valor_futuro\n",
        "\n",
        "# Cenário 1: Comprar imóvel financiado\n",
        "def comprar_imovel(valor_inicial, salario_mensal, prestacao, previsoes_ipca, meses):\n",
        "    saldo = valor_inicial\n",
        "    for mes in range(meses):\n",
        "        saldo += salario_mensal - prestacao\n",
        "        saldo *= (1 + previsoes_ipca.iloc[mes])\n",
        "    return saldo\n",
        "\n",
        "# Cenário 2: Alugar e juntar dinheiro\n",
        "def alugar_e_juntar(valor_inicial, salario_mensal, aluguel, previsoes_ipca, meses):\n",
        "    saldo = valor_inicial\n",
        "    for mes in range(meses):\n",
        "        saldo += salario_mensal - aluguel\n",
        "        saldo *= (1 + previsoes_ipca.iloc[mes])\n",
        "    return saldo\n",
        "\n",
        "# Calcular os saldos finais para cada cenário\n",
        "saldo_comprar = comprar_imovel(valor_inicial, salario_mensal, prestacao_financiamento, forecast_ipca.predicted_mean, meses_financiamento)\n",
        "saldo_alugar = alugar_e_juntar(valor_inicial, salario_mensal, aluguel_mensal, forecast_ipca.predicted_mean, meses_financiamento)\n",
        "\n",
        "# Calcular o valor futuro do imóvel\n",
        "valor_imovel_futuro = calcular_valor_futuro(valor_imovel, forecast_igpm.predicted_mean)\n",
        "\n",
        "# Comparar os resultados\n",
        "print(f\"Saldo final ao comprar o imóvel: R$ {saldo_comprar:.2f}\")\n",
        "print(f\"Saldo final ao alugar e juntar dinheiro: R$ {saldo_alugar:.2f}\")\n",
        "print(f\"Valor futuro do imóvel: R$ {valor_imovel_futuro:.2f}\")\n",
        "\n",
        "if saldo_comprar + valor_imovel_futuro > saldo_alugar:\n",
        "    print(\"Comprar o imóvel é a melhor opção.\")\n",
        "else:\n",
        "    print(\"Alugar e juntar dinheiro é a melhor opção.\")"
      ]
    }
  ]
}